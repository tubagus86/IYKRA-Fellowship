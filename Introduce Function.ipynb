{
  "nbformat": 4,
  "nbformat_minor": 0,
  "metadata": {
    "colab": {
      "name": "Untitled1.ipynb",
      "provenance": [],
      "authorship_tag": "ABX9TyPyQToPfJv7ptliqzqF3x/J",
      "include_colab_link": true
    },
    "kernelspec": {
      "name": "python3",
      "display_name": "Python 3"
    }
  },
  "cells": [
    {
      "cell_type": "markdown",
      "metadata": {
        "id": "view-in-github",
        "colab_type": "text"
      },
      "source": [
        "<a href=\"https://colab.research.google.com/github/tubagus86/IYKRA-Fellowship/blob/master/Introduce%20Function.ipynb\" target=\"_parent\"><img src=\"https://colab.research.google.com/assets/colab-badge.svg\" alt=\"Open In Colab\"/></a>"
      ]
    },
    {
      "cell_type": "code",
      "metadata": {
        "id": "hJtDk8AcXj7d",
        "colab_type": "code",
        "colab": {
          "base_uri": "https://localhost:8080/",
          "height": 34
        },
        "outputId": "b30899c2-bfc7-4119-c0dd-3edefc4b87cc"
      },
      "source": [
        "class Person:  \n",
        "    \n",
        "    def __init__(self, name, address, dob):  \n",
        "        self.name = name  \n",
        "        self.address = address\n",
        "        self.dob = dob\n",
        "\t\t\n",
        "    def say_hi(self):  \n",
        "        print('Hello, my name is', self.name, 'I live in', self.address, 'I was born on', self.dob)  \n",
        "    \n",
        "p = Person('Hadi,', 'Jakarta,', 'September 18, 1986')  \n",
        "p.say_hi()"
      ],
      "execution_count": 6,
      "outputs": [
        {
          "output_type": "stream",
          "text": [
            "Hello, my name is Hadi, I live in Jakarta, I was born on September 18, 1986\n"
          ],
          "name": "stdout"
        }
      ]
    }
  ]
}