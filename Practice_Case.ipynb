{
  "nbformat": 4,
  "nbformat_minor": 0,
  "metadata": {
    "colab": {
      "name": "Practice_Case.ipynb",
      "provenance": [],
      "collapsed_sections": [],
      "mount_file_id": "1uftKLoj_D1Fs5Xd3fkviHLSzYUBi4OM3",
      "authorship_tag": "ABX9TyPDY4foGD4/yFVRtkQs4dAH",
      "include_colab_link": true
    },
    "kernelspec": {
      "name": "python3",
      "display_name": "Python 3"
    }
  },
  "cells": [
    {
      "cell_type": "markdown",
      "metadata": {
        "id": "view-in-github",
        "colab_type": "text"
      },
      "source": [
        "<a href=\"https://colab.research.google.com/github/tubagus86/IYKRA-Fellowship/blob/master/Practice_Case.ipynb\" target=\"_parent\"><img src=\"https://colab.research.google.com/assets/colab-badge.svg\" alt=\"Open In Colab\"/></a>"
      ]
    },
    {
      "cell_type": "markdown",
      "metadata": {
        "id": "eAOBoL2Rtnao",
        "colab_type": "text"
      },
      "source": [
        ""
      ]
    },
    {
      "cell_type": "code",
      "metadata": {
        "id": "kaQxHF1ugBHQ",
        "colab_type": "code",
        "colab": {}
      },
      "source": [
        "import pandas as pd # untuk membaca dataset\n",
        "import numpy as np # untuk perhitungan statistik\n",
        "import matplotlib.pyplot as plt # untuk visualisasi\n",
        "import seaborn as sns # untuk visualisasi"
      ],
      "execution_count": 39,
      "outputs": []
    },
    {
      "cell_type": "code",
      "metadata": {
        "id": "c6PQnYWTgp-M",
        "colab_type": "code",
        "colab": {}
      },
      "source": [
        "df_insurance1 = pd.read_csv('insurance.csv')\n",
        "pd.set_option('display.max_columns', None)"
      ],
      "execution_count": 40,
      "outputs": []
    },
    {
      "cell_type": "markdown",
      "metadata": {
        "id": "TX_dj8Q85vQk",
        "colab_type": "text"
      },
      "source": [
        "# **1. Bagaimana bentuk datanya**"
      ]
    },
    {
      "cell_type": "code",
      "metadata": {
        "id": "BRifq3aCiD5u",
        "colab_type": "code",
        "colab": {
          "base_uri": "https://localhost:8080/",
          "height": 34
        },
        "outputId": "e3be4b63-d01b-4785-b026-b3ab8c8c860d"
      },
      "source": [
        "# the shape of data\n",
        "df_insurance1.shape"
      ],
      "execution_count": 41,
      "outputs": [
        {
          "output_type": "execute_result",
          "data": {
            "text/plain": [
              "(1338, 7)"
            ]
          },
          "metadata": {
            "tags": []
          },
          "execution_count": 41
        }
      ]
    },
    {
      "cell_type": "markdown",
      "metadata": {
        "id": "KmaOpXHAWdUz",
        "colab_type": "text"
      },
      "source": [
        "Dataset berisi 1338 rows dan 7 column"
      ]
    },
    {
      "cell_type": "markdown",
      "metadata": {
        "id": "Ow1TPsvJ_w1e",
        "colab_type": "text"
      },
      "source": [
        "# **2. Bagaimana tipe datanya?**"
      ]
    },
    {
      "cell_type": "code",
      "metadata": {
        "id": "8Kz5hpsZimiz",
        "colab_type": "code",
        "colab": {
          "base_uri": "https://localhost:8080/",
          "height": 272
        },
        "outputId": "f5ec5b60-536d-48ab-a70d-03d184253eb1"
      },
      "source": [
        "# struktur data dan preview\n",
        "print(df_insurance1.info())"
      ],
      "execution_count": 42,
      "outputs": [
        {
          "output_type": "stream",
          "text": [
            "<class 'pandas.core.frame.DataFrame'>\n",
            "RangeIndex: 1338 entries, 0 to 1337\n",
            "Data columns (total 7 columns):\n",
            " #   Column    Non-Null Count  Dtype  \n",
            "---  ------    --------------  -----  \n",
            " 0   age       1338 non-null   int64  \n",
            " 1   sex       1338 non-null   object \n",
            " 2   bmi       1338 non-null   float64\n",
            " 3   children  1338 non-null   int64  \n",
            " 4   smoker    1338 non-null   object \n",
            " 5   region    1338 non-null   object \n",
            " 6   charges   1338 non-null   float64\n",
            "dtypes: float64(2), int64(2), object(3)\n",
            "memory usage: 73.3+ KB\n",
            "None\n"
          ],
          "name": "stdout"
        }
      ]
    },
    {
      "cell_type": "markdown",
      "metadata": {
        "id": "roTFNc75_BPK",
        "colab_type": "text"
      },
      "source": [
        "# **3. Apakah terdapat missing values pada data?**\n"
      ]
    },
    {
      "cell_type": "code",
      "metadata": {
        "id": "lw3j4ZcSkh0a",
        "colab_type": "code",
        "colab": {
          "base_uri": "https://localhost:8080/",
          "height": 153
        },
        "outputId": "4ce75e59-0846-4691-8f2b-9c69590b31aa"
      },
      "source": [
        "df_insurance1.isnull().sum()"
      ],
      "execution_count": 43,
      "outputs": [
        {
          "output_type": "execute_result",
          "data": {
            "text/plain": [
              "age         0\n",
              "sex         0\n",
              "bmi         0\n",
              "children    0\n",
              "smoker      0\n",
              "region      0\n",
              "charges     0\n",
              "dtype: int64"
            ]
          },
          "metadata": {
            "tags": []
          },
          "execution_count": 43
        }
      ]
    },
    {
      "cell_type": "markdown",
      "metadata": {
        "id": "eCFxh0GTAIbl",
        "colab_type": "text"
      },
      "source": [
        "# **4. Five Point summary numerical attributes**"
      ]
    },
    {
      "cell_type": "markdown",
      "metadata": {
        "id": "lyhdmlqk_R3B",
        "colab_type": "text"
      },
      "source": [
        "Dari hasil dapat terlihat bahwa sama sekali tidak ada missing values pada data"
      ]
    },
    {
      "cell_type": "code",
      "metadata": {
        "id": "eG33AR1Gkuf1",
        "colab_type": "code",
        "colab": {
          "base_uri": "https://localhost:8080/",
          "height": 297
        },
        "outputId": "3a805bce-9ef8-47bb-d6bc-eb2f1f0c40e8"
      },
      "source": [
        "df_insurance1.describe()"
      ],
      "execution_count": 44,
      "outputs": [
        {
          "output_type": "execute_result",
          "data": {
            "text/html": [
              "<div>\n",
              "<style scoped>\n",
              "    .dataframe tbody tr th:only-of-type {\n",
              "        vertical-align: middle;\n",
              "    }\n",
              "\n",
              "    .dataframe tbody tr th {\n",
              "        vertical-align: top;\n",
              "    }\n",
              "\n",
              "    .dataframe thead th {\n",
              "        text-align: right;\n",
              "    }\n",
              "</style>\n",
              "<table border=\"1\" class=\"dataframe\">\n",
              "  <thead>\n",
              "    <tr style=\"text-align: right;\">\n",
              "      <th></th>\n",
              "      <th>age</th>\n",
              "      <th>bmi</th>\n",
              "      <th>children</th>\n",
              "      <th>charges</th>\n",
              "    </tr>\n",
              "  </thead>\n",
              "  <tbody>\n",
              "    <tr>\n",
              "      <th>count</th>\n",
              "      <td>1338.000000</td>\n",
              "      <td>1338.000000</td>\n",
              "      <td>1338.000000</td>\n",
              "      <td>1338.000000</td>\n",
              "    </tr>\n",
              "    <tr>\n",
              "      <th>mean</th>\n",
              "      <td>39.207025</td>\n",
              "      <td>30.663397</td>\n",
              "      <td>1.094918</td>\n",
              "      <td>13270.422265</td>\n",
              "    </tr>\n",
              "    <tr>\n",
              "      <th>std</th>\n",
              "      <td>14.049960</td>\n",
              "      <td>6.098187</td>\n",
              "      <td>1.205493</td>\n",
              "      <td>12110.011237</td>\n",
              "    </tr>\n",
              "    <tr>\n",
              "      <th>min</th>\n",
              "      <td>18.000000</td>\n",
              "      <td>15.960000</td>\n",
              "      <td>0.000000</td>\n",
              "      <td>1121.873900</td>\n",
              "    </tr>\n",
              "    <tr>\n",
              "      <th>25%</th>\n",
              "      <td>27.000000</td>\n",
              "      <td>26.296250</td>\n",
              "      <td>0.000000</td>\n",
              "      <td>4740.287150</td>\n",
              "    </tr>\n",
              "    <tr>\n",
              "      <th>50%</th>\n",
              "      <td>39.000000</td>\n",
              "      <td>30.400000</td>\n",
              "      <td>1.000000</td>\n",
              "      <td>9382.033000</td>\n",
              "    </tr>\n",
              "    <tr>\n",
              "      <th>75%</th>\n",
              "      <td>51.000000</td>\n",
              "      <td>34.693750</td>\n",
              "      <td>2.000000</td>\n",
              "      <td>16639.912515</td>\n",
              "    </tr>\n",
              "    <tr>\n",
              "      <th>max</th>\n",
              "      <td>64.000000</td>\n",
              "      <td>53.130000</td>\n",
              "      <td>5.000000</td>\n",
              "      <td>63770.428010</td>\n",
              "    </tr>\n",
              "  </tbody>\n",
              "</table>\n",
              "</div>"
            ],
            "text/plain": [
              "               age          bmi     children       charges\n",
              "count  1338.000000  1338.000000  1338.000000   1338.000000\n",
              "mean     39.207025    30.663397     1.094918  13270.422265\n",
              "std      14.049960     6.098187     1.205493  12110.011237\n",
              "min      18.000000    15.960000     0.000000   1121.873900\n",
              "25%      27.000000    26.296250     0.000000   4740.287150\n",
              "50%      39.000000    30.400000     1.000000   9382.033000\n",
              "75%      51.000000    34.693750     2.000000  16639.912515\n",
              "max      64.000000    53.130000     5.000000  63770.428010"
            ]
          },
          "metadata": {
            "tags": []
          },
          "execution_count": 44
        }
      ]
    },
    {
      "cell_type": "markdown",
      "metadata": {
        "id": "pE51cV-mAejk",
        "colab_type": "text"
      },
      "source": [
        "# **5. Bagaimana distribusi data 'bmi','age' dan charges?**"
      ]
    },
    {
      "cell_type": "code",
      "metadata": {
        "id": "RHilp3bTk1FW",
        "colab_type": "code",
        "colab": {
          "base_uri": "https://localhost:8080/",
          "height": 1000
        },
        "outputId": "76739bcf-7b4a-4731-a5a9-6ed39ec058a3"
      },
      "source": [
        "# Distribusi data pada 'bmi'\n",
        "\n",
        "fig, ax = plt.subplots(figsize=(5,5)) # distribusi data numerik dengan histogram\n",
        "sns.distplot(df_insurance1['bmi'].dropna(),\n",
        "            ax=ax).set_title('Distribution Plot of BMI')\n",
        "\n",
        "fig, ax = plt.subplots(figsize=(5,5)) # distribusi data numerik dengan histogram\n",
        "sns.distplot(df_insurance1['age'].dropna(),\n",
        "            ax=ax).set_title('Distribution Plot of Age')\n",
        "\n",
        "fig, ax = plt.subplots(figsize=(5,5)) # distribusi data numerik dengan histogram\n",
        "sns.distplot(df_insurance1['charges'].dropna(),\n",
        "            ax=ax).set_title('Distribution Plot of Charges')"
      ],
      "execution_count": 45,
      "outputs": [
        {
          "output_type": "execute_result",
          "data": {
            "text/plain": [
              "Text(0.5, 1.0, 'Distribution Plot of Charges')"
            ]
          },
          "metadata": {
            "tags": []
          },
          "execution_count": 45
        },
        {
          "output_type": "display_data",
          "data": {
            "image/png": "[encoded data removed]",
            "text/plain": [
              "<Figure size 360x360 with 1 Axes>"
            ]
          },
          "metadata": {
            "tags": []
          }
        },
        {
          "output_type": "display_data",
          "data": {
            "image/png": "[encoded data removed]",
            "text/plain": [
              "<Figure size 360x360 with 1 Axes>"
            ]
          },
          "metadata": {
            "tags": []
          }
        },
        {
          "output_type": "display_data",
          "data": {
            "image/png": "[encoded data removed]",
            "text/plain": [
              "<Figure size 360x360 with 1 Axes>"
            ]
          },
          "metadata": {
            "tags": []
          }
        }
      ]
    },
    {
      "cell_type": "markdown",
      "metadata": {
        "id": "fwhFVtt7Ax3Y",
        "colab_type": "text"
      },
      "source": [
        "Dari grafik histogram dapat terlihat bahwa untuk 'bmi' datanya terdistribusi normal"
      ]
    },
    {
      "cell_type": "markdown",
      "metadata": {
        "id": "dHR72zh46Jds",
        "colab_type": "text"
      },
      "source": [
        "# **6. Menghitung Skewness**"
      ]
    },
    {
      "cell_type": "code",
      "metadata": {
        "id": "U4bgQ9UVlyvD",
        "colab_type": "code",
        "colab": {
          "base_uri": "https://localhost:8080/",
          "height": 102
        },
        "outputId": "05f975a5-3683-4f33-a098-0d0cd9ccc36c"
      },
      "source": [
        "df_insurance1.skew(axis=0,skipna=True)"
      ],
      "execution_count": 46,
      "outputs": [
        {
          "output_type": "execute_result",
          "data": {
            "text/plain": [
              "age         0.055673\n",
              "bmi         0.284047\n",
              "children    0.938380\n",
              "charges     1.515880\n",
              "dtype: float64"
            ]
          },
          "metadata": {
            "tags": []
          },
          "execution_count": 46
        }
      ]
    },
    {
      "cell_type": "markdown",
      "metadata": {
        "id": "8JBUC5EY6Qoh",
        "colab_type": "text"
      },
      "source": [
        "# **7. Cek Outlier**"
      ]
    },
    {
      "cell_type": "code",
      "metadata": {
        "id": "3sGjzHuWn1Zj",
        "colab_type": "code",
        "colab": {
          "base_uri": "https://localhost:8080/",
          "height": 1000
        },
        "outputId": "c2f6f4cb-35a1-467a-ebed-40a7a804eef4"
      },
      "source": [
        "fig,ax = plt.subplots(figsize=(10,5))\n",
        "sns.set(style=\"whitegrid\")\n",
        "ax = sns.boxplot(x = df_insurance1['bmi']).set_title('Box Plot of BMI')\n",
        "\n",
        "fig,ax = plt.subplots(figsize=(10,5))\n",
        "sns.set(style=\"whitegrid\")\n",
        "ax = sns.boxplot(x = df_insurance1['age']).set_title('Box Plot of Age')\n",
        "\n",
        "fig,ax = plt.subplots(figsize=(10,5))\n",
        "sns.set(style=\"whitegrid\")\n",
        "ax = sns.boxplot(x = df_insurance1['charges']).set_title('Distribution Plot of charges')"
      ],
      "execution_count": 47,
      "outputs": [
        {
          "output_type": "display_data",
          "data": {
            "image/png": "[encoded data removed]",
            "text/plain": [
              "<Figure size 720x360 with 1 Axes>"
            ]
          },
          "metadata": {
            "tags": []
          }
        },
        {
          "output_type": "display_data",
          "data": {
            "image/png": "[encoded data removed]",
            "text/plain": [
              "<Figure size 720x360 with 1 Axes>"
            ]
          },
          "metadata": {
            "tags": []
          }
        },
        {
          "output_type": "display_data",
          "data": {
            "image/png": "[encoded data removed]",
            "text/plain": [
              "<Figure size 720x360 with 1 Axes>"
            ]
          },
          "metadata": {
            "tags": []
          }
        }
      ]
    },
    {
      "cell_type": "markdown",
      "metadata": {
        "id": "q36VmHzNKbPv",
        "colab_type": "text"
      },
      "source": [
        "# **8. Do charges of people who smoke differ significantly from the people who don't? (Hypothesis Testing)**"
      ]
    },
    {
      "cell_type": "code",
      "metadata": {
        "id": "A_5eyNLRKpyX",
        "colab_type": "code",
        "colab": {
          "base_uri": "https://localhost:8080/",
          "height": 68
        },
        "outputId": "02d7df29-323b-4f0d-999b-568470a69076"
      },
      "source": [
        "df_insurance1.smoker.value_counts()"
      ],
      "execution_count": 48,
      "outputs": [
        {
          "output_type": "execute_result",
          "data": {
            "text/plain": [
              "no     1064\n",
              "yes     274\n",
              "Name: smoker, dtype: int64"
            ]
          },
          "metadata": {
            "tags": []
          },
          "execution_count": 48
        }
      ]
    },
    {
      "cell_type": "markdown",
      "metadata": {
        "id": "HR0lBYBDK9oC",
        "colab_type": "text"
      },
      "source": [
        "Jumlah yang tidak merokok lebih banyak dari yang tidak merokok"
      ]
    },
    {
      "cell_type": "code",
      "metadata": {
        "id": "IG1RxKj9Lkto",
        "colab_type": "code",
        "colab": {}
      },
      "source": [
        "Ho = \"Smoker and No Smoker have same charges\"\n",
        "H1 = \"Smoker and No Smoker doesn't have same charges\""
      ],
      "execution_count": 49,
      "outputs": []
    },
    {
      "cell_type": "code",
      "metadata": {
        "id": "Sl82KGt2xxAq",
        "colab_type": "code",
        "colab": {}
      },
      "source": [
        "from scipy import stats"
      ],
      "execution_count": 50,
      "outputs": []
    },
    {
      "cell_type": "code",
      "metadata": {
        "id": "Z2ZcJ8a0soVx",
        "colab_type": "code",
        "colab": {}
      },
      "source": [
        "z, p_value = stats.mannwhitneyu(df_insurance1[df_insurance1.smoker == 'yes'].charges,\n",
        "                df_insurance1[df_insurance1.smoker == 'no'].charges\n",
        "                , use_continuity=True, alternative=None)"
      ],
      "execution_count": 51,
      "outputs": []
    },
    {
      "cell_type": "markdown",
      "metadata": {
        "id": "RR4HazanMFQK",
        "colab_type": "text"
      },
      "source": [
        "kita tentukan siginificant level di 95% dengan p-value < alpha (0.05)"
      ]
    },
    {
      "cell_type": "code",
      "metadata": {
        "id": "08vdp0E9PR4Y",
        "colab_type": "code",
        "colab": {
          "base_uri": "https://localhost:8080/",
          "height": 34
        },
        "outputId": "20c466b5-2adc-47a9-e7cb-0bb4be850a9c"
      },
      "source": [
        "if p_value < 0.05:  # Setting our significance level at 5%\n",
        "    print(H1)\n",
        "else:\n",
        "    print(Ho)"
      ],
      "execution_count": 52,
      "outputs": [
        {
          "output_type": "stream",
          "text": [
            "Smoker and No Smoker doesn't have same charges\n"
          ],
          "name": "stdout"
        }
      ]
    }
  ]
}